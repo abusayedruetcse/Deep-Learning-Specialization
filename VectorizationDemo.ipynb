{
  "nbformat": 4,
  "nbformat_minor": 0,
  "metadata": {
    "colab": {
      "name": "VectorizationDemo.ipynb",
      "provenance": [],
      "authorship_tag": "ABX9TyPzR/HGurRrMaRKCSmkBGB6",
      "include_colab_link": true
    },
    "kernelspec": {
      "name": "python3",
      "display_name": "Python 3"
    }
  },
  "cells": [
    {
      "cell_type": "markdown",
      "metadata": {
        "id": "view-in-github",
        "colab_type": "text"
      },
      "source": [
        "<a href=\"https://colab.research.google.com/github/abusayedruetcse/Deep-Learning-Specialization/blob/master/VectorizationDemo.ipynb\" target=\"_parent\"><img src=\"https://colab.research.google.com/assets/colab-badge.svg\" alt=\"Open In Colab\"/></a>"
      ]
    },
    {
      "cell_type": "code",
      "metadata": {
        "id": "l8M2MCMuqiex",
        "colab_type": "code",
        "colab": {
          "base_uri": "https://localhost:8080/",
          "height": 34
        },
        "outputId": "4bdcb938-0657-4968-e4e6-9409a84d9979"
      },
      "source": [
        "import numpy as np\n",
        "a= np.array([1,2, 3, 4])\n",
        "print(a)"
      ],
      "execution_count": 1,
      "outputs": [
        {
          "output_type": "stream",
          "text": [
            "[1 2 3 4]\n"
          ],
          "name": "stdout"
        }
      ]
    },
    {
      "cell_type": "code",
      "metadata": {
        "id": "_SCNTR_ksg2h",
        "colab_type": "code",
        "colab": {
          "base_uri": "https://localhost:8080/",
          "height": 102
        },
        "outputId": "b94fc7e7-5e3b-4e39-b106-a87487b006c8"
      },
      "source": [
        "import time\n",
        "a = np.random.rand(100000)\n",
        "b = np.random.rand(100000)\n",
        "\n",
        "tic = time.time()\n",
        "c = np.dot(a,b)\n",
        "toc = time.time()\n",
        "print(c)\n",
        "print(\"Vectorization: \"+ str(1000*(toc-tic))+ \"ms\")\n",
        "\n",
        "tic = time.time()\n",
        "c=0\n",
        "for i in range(100000):\n",
        "  c+=a[i]*b[i]\n",
        "toc = time.time()\n",
        "print(c)\n",
        "print(\"Non-Vectorized:\"+ str(1000*(toc-tic))+\"ms\")\n",
        "print()"
      ],
      "execution_count": 21,
      "outputs": [
        {
          "output_type": "stream",
          "text": [
            "25021.06160875052\n",
            "Vectorization: 4.808664321899414ms\n",
            "25021.061608750064\n",
            "Non-Vectorized:117.65456199645996ms\n",
            "\n"
          ],
          "name": "stdout"
        }
      ]
    }
  ]
}
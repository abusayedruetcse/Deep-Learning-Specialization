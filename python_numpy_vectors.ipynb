{
  "nbformat": 4,
  "nbformat_minor": 0,
  "metadata": {
    "colab": {
      "name": "python/numpy vectors.ipynb",
      "provenance": [],
      "authorship_tag": "ABX9TyPxvxAE8+9jl/ejQVkg+4hf",
      "include_colab_link": true
    },
    "kernelspec": {
      "name": "python3",
      "display_name": "Python 3"
    }
  },
  "cells": [
    {
      "cell_type": "markdown",
      "metadata": {
        "id": "view-in-github",
        "colab_type": "text"
      },
      "source": [
        "<a href=\"https://colab.research.google.com/github/abusayedruetcse/Deep-Learning-Specialization/blob/master/python_numpy_vectors.ipynb\" target=\"_parent\"><img src=\"https://colab.research.google.com/assets/colab-badge.svg\" alt=\"Open In Colab\"/></a>"
      ]
    },
    {
      "cell_type": "code",
      "metadata": {
        "id": "cOKuzyIKoXyV",
        "colab_type": "code",
        "colab": {
          "base_uri": "https://localhost:8080/",
          "height": 34
        },
        "outputId": "f268dda0-6755-453e-f02b-2173138fe45f"
      },
      "source": [
        "import numpy as np\n",
        "a = np.random.randn(5)\n",
        "print(a)"
      ],
      "execution_count": 2,
      "outputs": [
        {
          "output_type": "stream",
          "text": [
            "[-0.52350926 -1.83941074  0.36724476  1.17757558  0.05424052]\n"
          ],
          "name": "stdout"
        }
      ]
    },
    {
      "cell_type": "code",
      "metadata": {
        "id": "Il6CcVZWo8Eu",
        "colab_type": "code",
        "colab": {
          "base_uri": "https://localhost:8080/",
          "height": 34
        },
        "outputId": "ceceb5b9-38b8-433d-e223-8291fa6924e7"
      },
      "source": [
        "print(a.shape)"
      ],
      "execution_count": 3,
      "outputs": [
        {
          "output_type": "stream",
          "text": [
            "(5,)\n"
          ],
          "name": "stdout"
        }
      ]
    },
    {
      "cell_type": "code",
      "metadata": {
        "id": "4co0qHL7pBBh",
        "colab_type": "code",
        "colab": {
          "base_uri": "https://localhost:8080/",
          "height": 34
        },
        "outputId": "c46935f9-4cce-49ff-c13f-2ea96850439c"
      },
      "source": [
        "print(a.T)"
      ],
      "execution_count": 4,
      "outputs": [
        {
          "output_type": "stream",
          "text": [
            "[-0.52350926 -1.83941074  0.36724476  1.17757558  0.05424052]\n"
          ],
          "name": "stdout"
        }
      ]
    },
    {
      "cell_type": "code",
      "metadata": {
        "id": "yqV2I9ZJpXii",
        "colab_type": "code",
        "colab": {
          "base_uri": "https://localhost:8080/",
          "height": 34
        },
        "outputId": "b8c9a706-b236-4821-e473-341408f1753e"
      },
      "source": [
        "print(a.T.shape)"
      ],
      "execution_count": 5,
      "outputs": [
        {
          "output_type": "stream",
          "text": [
            "(5,)\n"
          ],
          "name": "stdout"
        }
      ]
    },
    {
      "cell_type": "code",
      "metadata": {
        "id": "tmLaojRMprhR",
        "colab_type": "code",
        "colab": {
          "base_uri": "https://localhost:8080/",
          "height": 34
        },
        "outputId": "052ded24-74a7-4916-e70c-faf30a806054"
      },
      "source": [
        "print(np.dot(a,a.T))"
      ],
      "execution_count": 6,
      "outputs": [
        {
          "output_type": "stream",
          "text": [
            "5.181988795871099\n"
          ],
          "name": "stdout"
        }
      ]
    },
    {
      "cell_type": "markdown",
      "metadata": {
        "id": "8woAHRz6p7ql",
        "colab_type": "text"
      },
      "source": [
        "don't use like previous shape (5, ) or ( ,5)"
      ]
    },
    {
      "cell_type": "code",
      "metadata": {
        "id": "k7sTybcPqFcc",
        "colab_type": "code",
        "colab": {
          "base_uri": "https://localhost:8080/",
          "height": 102
        },
        "outputId": "a0280029-7cdd-48d4-a1e5-df6eb86d7234"
      },
      "source": [
        "a = np.random.randn(5,1)\n",
        "print(a)"
      ],
      "execution_count": 7,
      "outputs": [
        {
          "output_type": "stream",
          "text": [
            "[[-0.62523954]\n",
            " [ 0.39570219]\n",
            " [ 0.48669115]\n",
            " [-1.04394448]\n",
            " [-1.73314987]]\n"
          ],
          "name": "stdout"
        }
      ]
    },
    {
      "cell_type": "code",
      "metadata": {
        "id": "-HUuJo_Rq_0T",
        "colab_type": "code",
        "colab": {
          "base_uri": "https://localhost:8080/",
          "height": 51
        },
        "outputId": "89bde3b5-705b-4480-fc7e-1d344406832c"
      },
      "source": [
        "print(a.T)\n",
        "print(a.T.shape)"
      ],
      "execution_count": 8,
      "outputs": [
        {
          "output_type": "stream",
          "text": [
            "[[-0.62523954  0.39570219  0.48669115 -1.04394448 -1.73314987]]\n",
            "(1, 5)\n"
          ],
          "name": "stdout"
        }
      ]
    },
    {
      "cell_type": "code",
      "metadata": {
        "id": "BcMIX7x5rHVL",
        "colab_type": "code",
        "colab": {
          "base_uri": "https://localhost:8080/",
          "height": 102
        },
        "outputId": "3ca49592-22ba-466f-ce0f-d23f9b7d6f24"
      },
      "source": [
        "print(np.dot(a,a.T))"
      ],
      "execution_count": 9,
      "outputs": [
        {
          "output_type": "stream",
          "text": [
            "[[ 0.39092448 -0.24740865 -0.30429855  0.65271536  1.08363383]\n",
            " [-0.24740865  0.15658022  0.19258475 -0.41309111 -0.6858112 ]\n",
            " [-0.30429855  0.19258475  0.23686828 -0.50807854 -0.84350871]\n",
            " [ 0.65271536 -0.41309111 -0.50807854  1.08982007  1.80931223]\n",
            " [ 1.08363383 -0.6858112  -0.84350871  1.80931223  3.00380847]]\n"
          ],
          "name": "stdout"
        }
      ]
    },
    {
      "cell_type": "markdown",
      "metadata": {
        "id": "QVOa6n-nrYmJ",
        "colab_type": "text"
      },
      "source": [
        "=> Use (5,1) or (1,5) instead of (5) means (5,) : (5,1) or (1,5) has [[ ]] but in (5) has []\n"
      ]
    },
    {
      "cell_type": "code",
      "metadata": {
        "id": "z7nJPJVdr8Yc",
        "colab_type": "code",
        "colab": {}
      },
      "source": [
        ""
      ],
      "execution_count": null,
      "outputs": []
    }
  ]
}